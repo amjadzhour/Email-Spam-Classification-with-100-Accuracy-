{
 "cells": [
  {
   "cell_type": "markdown",
   "id": "b18a42d7",
   "metadata": {
    "papermill": {
     "duration": 0.015397,
     "end_time": "2024-09-09T02:39:44.346480",
     "exception": false,
     "start_time": "2024-09-09T02:39:44.331083",
     "status": "completed"
    },
    "tags": []
   },
   "source": [
    "#  <p style=\"width: 800px; border-radius: 12px; border: 3px dashed #ffe81c; padding: 20px; background-color: #058BDD; text-align: center; box-shadow: 0px 6px 12px rgba(0, 0, 0, 0.3); color: #F0FF00; text-shadow: 1px 1px 2px rgba(0, 0, 0, 0.3); font-weight: bold; margin-bottom: 15px; font-size: 30px;\"> 📧 Email Spam or Not (Classification)📭\n",
    "</p>"
   ]
  },
  {
   "cell_type": "code",
   "execution_count": 1,
   "id": "5c7322eb",
   "metadata": {
    "execution": {
     "iopub.execute_input": "2024-09-09T02:39:44.373525Z",
     "iopub.status.busy": "2024-09-09T02:39:44.373003Z",
     "iopub.status.idle": "2024-09-09T02:39:44.837849Z",
     "shell.execute_reply": "2024-09-09T02:39:44.836283Z"
    },
    "papermill": {
     "duration": 0.481558,
     "end_time": "2024-09-09T02:39:44.840893",
     "exception": false,
     "start_time": "2024-09-09T02:39:44.359335",
     "status": "completed"
    },
    "tags": []
   },
   "outputs": [],
   "source": [
    "import pandas as pd \n",
    "import numpy as np"
   ]
  },
  {
   "cell_type": "markdown",
   "id": "9e467199",
   "metadata": {
    "papermill": {
     "duration": 0.012674,
     "end_time": "2024-09-09T02:39:44.866117",
     "exception": false,
     "start_time": "2024-09-09T02:39:44.853443",
     "status": "completed"
    },
    "tags": []
   },
   "source": [
    "#  <p style=\"width: 800px; border-radius: 12px; border: 3px dashed #ffe81c; padding: 20px; background-color: #058BDD; text-align: center; box-shadow: 0px 6px 12px rgba(0, 0, 0, 0.3); color: #F0FF00; text-shadow: 1px 1px 2px rgba(0, 0, 0, 0.3); font-weight: bold; margin-bottom: 15px; font-size: 30px;\"> Readers data</p>"
   ]
  },
  {
   "cell_type": "code",
   "execution_count": 2,
   "id": "9e9d2556",
   "metadata": {
    "execution": {
     "iopub.execute_input": "2024-09-09T02:39:44.892657Z",
     "iopub.status.busy": "2024-09-09T02:39:44.892027Z",
     "iopub.status.idle": "2024-09-09T02:39:44.935683Z",
     "shell.execute_reply": "2024-09-09T02:39:44.934456Z"
    },
    "papermill": {
     "duration": 0.060286,
     "end_time": "2024-09-09T02:39:44.938683",
     "exception": false,
     "start_time": "2024-09-09T02:39:44.878397",
     "status": "completed"
    },
    "tags": []
   },
   "outputs": [],
   "source": [
    "df=pd.read_csv(\"/kaggle/input/email-spam-or-not-classification/spam_dataset.csv\")"
   ]
  },
  {
   "cell_type": "markdown",
   "id": "c9fda3bb",
   "metadata": {
    "papermill": {
     "duration": 0.011819,
     "end_time": "2024-09-09T02:39:44.962918",
     "exception": false,
     "start_time": "2024-09-09T02:39:44.951099",
     "status": "completed"
    },
    "tags": []
   },
   "source": [
    "# <p style=\"width: 800px; border-radius: 12px; border: 3px dashed #ffe81c; padding: 20px; background-color: #058BDD; text-align: center; box-shadow: 0px 6px 12px rgba(0, 0, 0, 0.3); color: #F0FF00; text-shadow: 1px 1px 2px rgba(0, 0, 0, 0.3); font-weight: bold; margin-bottom: 15px; font-size: 30px;\">describe in data</p>[](http://)"
   ]
  },
  {
   "cell_type": "code",
   "execution_count": 3,
   "id": "5a7d1f93",
   "metadata": {
    "execution": {
     "iopub.execute_input": "2024-09-09T02:39:44.990332Z",
     "iopub.status.busy": "2024-09-09T02:39:44.989840Z",
     "iopub.status.idle": "2024-09-09T02:39:45.014070Z",
     "shell.execute_reply": "2024-09-09T02:39:45.012832Z"
    },
    "papermill": {
     "duration": 0.042107,
     "end_time": "2024-09-09T02:39:45.017341",
     "exception": false,
     "start_time": "2024-09-09T02:39:44.975234",
     "status": "completed"
    },
    "tags": []
   },
   "outputs": [
    {
     "data": {
      "text/html": [
       "<div>\n",
       "<style scoped>\n",
       "    .dataframe tbody tr th:only-of-type {\n",
       "        vertical-align: middle;\n",
       "    }\n",
       "\n",
       "    .dataframe tbody tr th {\n",
       "        vertical-align: top;\n",
       "    }\n",
       "\n",
       "    .dataframe thead th {\n",
       "        text-align: right;\n",
       "    }\n",
       "</style>\n",
       "<table border=\"1\" class=\"dataframe\">\n",
       "  <thead>\n",
       "    <tr style=\"text-align: right;\">\n",
       "      <th></th>\n",
       "      <th>message_content</th>\n",
       "      <th>is_spam</th>\n",
       "    </tr>\n",
       "  </thead>\n",
       "  <tbody>\n",
       "    <tr>\n",
       "      <th>0</th>\n",
       "      <td>Hello Lonnie,\\n\\nJust wanted to touch base reg...</td>\n",
       "      <td>0</td>\n",
       "    </tr>\n",
       "    <tr>\n",
       "      <th>1</th>\n",
       "      <td>Congratulations, you've won a prize! Call us n...</td>\n",
       "      <td>1</td>\n",
       "    </tr>\n",
       "    <tr>\n",
       "      <th>2</th>\n",
       "      <td>You have been pre-approved for a credit card w...</td>\n",
       "      <td>1</td>\n",
       "    </tr>\n",
       "    <tr>\n",
       "      <th>3</th>\n",
       "      <td>Limited time offer, act now! Only a few spots ...</td>\n",
       "      <td>1</td>\n",
       "    </tr>\n",
       "    <tr>\n",
       "      <th>4</th>\n",
       "      <td>Your loan has been approved! Transfer funds to...</td>\n",
       "      <td>1</td>\n",
       "    </tr>\n",
       "  </tbody>\n",
       "</table>\n",
       "</div>"
      ],
      "text/plain": [
       "                                     message_content  is_spam\n",
       "0  Hello Lonnie,\\n\\nJust wanted to touch base reg...        0\n",
       "1  Congratulations, you've won a prize! Call us n...        1\n",
       "2  You have been pre-approved for a credit card w...        1\n",
       "3  Limited time offer, act now! Only a few spots ...        1\n",
       "4  Your loan has been approved! Transfer funds to...        1"
      ]
     },
     "execution_count": 3,
     "metadata": {},
     "output_type": "execute_result"
    }
   ],
   "source": [
    "df.head()"
   ]
  },
  {
   "cell_type": "code",
   "execution_count": 4,
   "id": "5db37fdf",
   "metadata": {
    "execution": {
     "iopub.execute_input": "2024-09-09T02:39:45.044530Z",
     "iopub.status.busy": "2024-09-09T02:39:45.044088Z",
     "iopub.status.idle": "2024-09-09T02:39:45.062190Z",
     "shell.execute_reply": "2024-09-09T02:39:45.060863Z"
    },
    "papermill": {
     "duration": 0.035166,
     "end_time": "2024-09-09T02:39:45.065156",
     "exception": false,
     "start_time": "2024-09-09T02:39:45.029990",
     "status": "completed"
    },
    "tags": []
   },
   "outputs": [],
   "source": [
    "df=df.drop_duplicates()"
   ]
  },
  {
   "cell_type": "markdown",
   "id": "95781310",
   "metadata": {
    "papermill": {
     "duration": 0.01204,
     "end_time": "2024-09-09T02:39:45.089774",
     "exception": false,
     "start_time": "2024-09-09T02:39:45.077734",
     "status": "completed"
    },
    "tags": []
   },
   "source": [
    "# <p style=\"width: 800px; border-radius: 12px; border: 3px dashed #ffe81c; padding: 20px; background-color: #058BDD; text-align: center; box-shadow: 0px 6px 12px rgba(0, 0, 0, 0.3); color: #F0FF00; text-shadow: 1px 1px 2px rgba(0, 0, 0, 0.3); font-weight: bold; margin-bottom: 15px; font-size: 30px;\">is null</p>[](http://)"
   ]
  },
  {
   "cell_type": "code",
   "execution_count": 5,
   "id": "db676d27",
   "metadata": {
    "execution": {
     "iopub.execute_input": "2024-09-09T02:39:45.118055Z",
     "iopub.status.busy": "2024-09-09T02:39:45.117600Z",
     "iopub.status.idle": "2024-09-09T02:39:45.129131Z",
     "shell.execute_reply": "2024-09-09T02:39:45.127347Z"
    },
    "papermill": {
     "duration": 0.029988,
     "end_time": "2024-09-09T02:39:45.132214",
     "exception": false,
     "start_time": "2024-09-09T02:39:45.102226",
     "status": "completed"
    },
    "tags": []
   },
   "outputs": [
    {
     "data": {
      "text/plain": [
       "message_content    0\n",
       "is_spam            0\n",
       "dtype: int64"
      ]
     },
     "execution_count": 5,
     "metadata": {},
     "output_type": "execute_result"
    }
   ],
   "source": [
    "df.isnull().sum()"
   ]
  },
  {
   "cell_type": "markdown",
   "id": "827ad070",
   "metadata": {
    "papermill": {
     "duration": 0.012246,
     "end_time": "2024-09-09T02:39:45.157938",
     "exception": false,
     "start_time": "2024-09-09T02:39:45.145692",
     "status": "completed"
    },
    "tags": []
   },
   "source": [
    "# <p style=\"width: 800px; border-radius: 12px; border: 3px dashed #ffe81c; padding: 20px; background-color: #058BDD; text-align: center; box-shadow: 0px 6px 12px rgba(0, 0, 0, 0.3); color: #F0FF00; text-shadow: 1px 1px 2px rgba(0, 0, 0, 0.3); font-weight: bold; margin-bottom: 15px; font-size: 30px;\">train_test_split</p>[](http://)"
   ]
  },
  {
   "cell_type": "code",
   "execution_count": 6,
   "id": "01d49ab5",
   "metadata": {
    "execution": {
     "iopub.execute_input": "2024-09-09T02:39:45.186164Z",
     "iopub.status.busy": "2024-09-09T02:39:45.185365Z",
     "iopub.status.idle": "2024-09-09T02:39:45.191452Z",
     "shell.execute_reply": "2024-09-09T02:39:45.190171Z"
    },
    "papermill": {
     "duration": 0.023097,
     "end_time": "2024-09-09T02:39:45.194464",
     "exception": false,
     "start_time": "2024-09-09T02:39:45.171367",
     "status": "completed"
    },
    "tags": []
   },
   "outputs": [],
   "source": [
    "x=df['message_content']\n",
    "y=df['is_spam']"
   ]
  },
  {
   "cell_type": "code",
   "execution_count": 7,
   "id": "faf12dae",
   "metadata": {
    "execution": {
     "iopub.execute_input": "2024-09-09T02:39:45.222386Z",
     "iopub.status.busy": "2024-09-09T02:39:45.221918Z",
     "iopub.status.idle": "2024-09-09T02:39:46.841382Z",
     "shell.execute_reply": "2024-09-09T02:39:46.840071Z"
    },
    "papermill": {
     "duration": 1.636805,
     "end_time": "2024-09-09T02:39:46.844505",
     "exception": false,
     "start_time": "2024-09-09T02:39:45.207700",
     "status": "completed"
    },
    "tags": []
   },
   "outputs": [],
   "source": [
    "from sklearn.model_selection import train_test_split"
   ]
  },
  {
   "cell_type": "code",
   "execution_count": 8,
   "id": "89623721",
   "metadata": {
    "execution": {
     "iopub.execute_input": "2024-09-09T02:39:46.872177Z",
     "iopub.status.busy": "2024-09-09T02:39:46.871496Z",
     "iopub.status.idle": "2024-09-09T02:39:46.881743Z",
     "shell.execute_reply": "2024-09-09T02:39:46.880571Z"
    },
    "papermill": {
     "duration": 0.027209,
     "end_time": "2024-09-09T02:39:46.884596",
     "exception": false,
     "start_time": "2024-09-09T02:39:46.857387",
     "status": "completed"
    },
    "tags": []
   },
   "outputs": [],
   "source": [
    "x_train,x_test,y_train,y_test=train_test_split(x,y,test_size=0.3,random_state=42)\n"
   ]
  },
  {
   "cell_type": "markdown",
   "id": "7e4c98bc",
   "metadata": {
    "papermill": {
     "duration": 0.011984,
     "end_time": "2024-09-09T02:39:46.909337",
     "exception": false,
     "start_time": "2024-09-09T02:39:46.897353",
     "status": "completed"
    },
    "tags": []
   },
   "source": [
    "# <p style=\"width: 800px; border-radius: 12px; border: 3px dashed #ffe81c; padding: 20px; background-color: #058BDD; text-align: center; box-shadow: 0px 6px 12px rgba(0, 0, 0, 0.3); color: #F0FF00; text-shadow: 1px 1px 2px rgba(0, 0, 0, 0.3); font-weight: bold; margin-bottom: 15px; font-size: 30px;\">TfidfVectorizert</p>[](http://)"
   ]
  },
  {
   "cell_type": "code",
   "execution_count": 9,
   "id": "250cb5c1",
   "metadata": {
    "execution": {
     "iopub.execute_input": "2024-09-09T02:39:46.937117Z",
     "iopub.status.busy": "2024-09-09T02:39:46.935942Z",
     "iopub.status.idle": "2024-09-09T02:39:46.954608Z",
     "shell.execute_reply": "2024-09-09T02:39:46.953520Z"
    },
    "papermill": {
     "duration": 0.035681,
     "end_time": "2024-09-09T02:39:46.957589",
     "exception": false,
     "start_time": "2024-09-09T02:39:46.921908",
     "status": "completed"
    },
    "tags": []
   },
   "outputs": [],
   "source": [
    "from sklearn.feature_extraction.text import TfidfVectorizer\n"
   ]
  },
  {
   "cell_type": "code",
   "execution_count": 10,
   "id": "68b42079",
   "metadata": {
    "execution": {
     "iopub.execute_input": "2024-09-09T02:39:46.985284Z",
     "iopub.status.busy": "2024-09-09T02:39:46.984106Z",
     "iopub.status.idle": "2024-09-09T02:39:46.990386Z",
     "shell.execute_reply": "2024-09-09T02:39:46.988928Z"
    },
    "papermill": {
     "duration": 0.02306,
     "end_time": "2024-09-09T02:39:46.993214",
     "exception": false,
     "start_time": "2024-09-09T02:39:46.970154",
     "status": "completed"
    },
    "tags": []
   },
   "outputs": [],
   "source": [
    "tfid=TfidfVectorizer(stop_words=\"english\")"
   ]
  },
  {
   "cell_type": "code",
   "execution_count": 11,
   "id": "258444ea",
   "metadata": {
    "execution": {
     "iopub.execute_input": "2024-09-09T02:39:47.021005Z",
     "iopub.status.busy": "2024-09-09T02:39:47.020095Z",
     "iopub.status.idle": "2024-09-09T02:39:47.082768Z",
     "shell.execute_reply": "2024-09-09T02:39:47.081578Z"
    },
    "papermill": {
     "duration": 0.079532,
     "end_time": "2024-09-09T02:39:47.085657",
     "exception": false,
     "start_time": "2024-09-09T02:39:47.006125",
     "status": "completed"
    },
    "tags": []
   },
   "outputs": [],
   "source": [
    "x_train2=tfid.fit_transform(x_train)"
   ]
  },
  {
   "cell_type": "code",
   "execution_count": 12,
   "id": "c14a5784",
   "metadata": {
    "execution": {
     "iopub.execute_input": "2024-09-09T02:39:47.112993Z",
     "iopub.status.busy": "2024-09-09T02:39:47.112517Z",
     "iopub.status.idle": "2024-09-09T02:39:47.136240Z",
     "shell.execute_reply": "2024-09-09T02:39:47.135132Z"
    },
    "papermill": {
     "duration": 0.04051,
     "end_time": "2024-09-09T02:39:47.139087",
     "exception": false,
     "start_time": "2024-09-09T02:39:47.098577",
     "status": "completed"
    },
    "tags": []
   },
   "outputs": [],
   "source": [
    "x_test2=tfid.transform(x_test)"
   ]
  },
  {
   "cell_type": "code",
   "execution_count": 13,
   "id": "8932a007",
   "metadata": {
    "execution": {
     "iopub.execute_input": "2024-09-09T02:39:47.166292Z",
     "iopub.status.busy": "2024-09-09T02:39:47.165801Z",
     "iopub.status.idle": "2024-09-09T02:39:47.172955Z",
     "shell.execute_reply": "2024-09-09T02:39:47.171793Z"
    },
    "papermill": {
     "duration": 0.023615,
     "end_time": "2024-09-09T02:39:47.175684",
     "exception": false,
     "start_time": "2024-09-09T02:39:47.152069",
     "status": "completed"
    },
    "tags": []
   },
   "outputs": [
    {
     "name": "stdout",
     "output_type": "stream",
     "text": [
      "['01' '02' '03' ... 'zachary' 'zavala' 'zimmerman']\n"
     ]
    }
   ],
   "source": [
    "print(tfid.get_feature_names_out())"
   ]
  },
  {
   "cell_type": "markdown",
   "id": "b128ddd8",
   "metadata": {
    "papermill": {
     "duration": 0.012185,
     "end_time": "2024-09-09T02:39:47.200561",
     "exception": false,
     "start_time": "2024-09-09T02:39:47.188376",
     "status": "completed"
    },
    "tags": []
   },
   "source": [
    "# <p style=\"width: 800px; border-radius: 12px; border: 3px dashed #ffe81c; padding: 20px; background-color: #058BDD; text-align: center; box-shadow: 0px 6px 12px rgba(0, 0, 0, 0.3); color: #F0FF00; text-shadow: 1px 1px 2px rgba(0, 0, 0, 0.3); font-weight: bold; margin-bottom: 15px; font-size: 30px;\">imbalanced data</p> "
   ]
  },
  {
   "cell_type": "code",
   "execution_count": 14,
   "id": "eb80d08c",
   "metadata": {
    "execution": {
     "iopub.execute_input": "2024-09-09T02:39:47.228107Z",
     "iopub.status.busy": "2024-09-09T02:39:47.227672Z",
     "iopub.status.idle": "2024-09-09T02:39:47.239908Z",
     "shell.execute_reply": "2024-09-09T02:39:47.238573Z"
    },
    "papermill": {
     "duration": 0.02932,
     "end_time": "2024-09-09T02:39:47.242414",
     "exception": false,
     "start_time": "2024-09-09T02:39:47.213094",
     "status": "completed"
    },
    "tags": []
   },
   "outputs": [
    {
     "data": {
      "text/plain": [
       "is_spam\n",
       "0    354\n",
       "1    119\n",
       "Name: count, dtype: int64"
      ]
     },
     "execution_count": 14,
     "metadata": {},
     "output_type": "execute_result"
    }
   ],
   "source": [
    "y_train.value_counts()"
   ]
  },
  {
   "cell_type": "code",
   "execution_count": 15,
   "id": "6468bb85",
   "metadata": {
    "execution": {
     "iopub.execute_input": "2024-09-09T02:39:47.271965Z",
     "iopub.status.busy": "2024-09-09T02:39:47.271538Z",
     "iopub.status.idle": "2024-09-09T02:39:47.835300Z",
     "shell.execute_reply": "2024-09-09T02:39:47.834172Z"
    },
    "papermill": {
     "duration": 0.582471,
     "end_time": "2024-09-09T02:39:47.838165",
     "exception": false,
     "start_time": "2024-09-09T02:39:47.255694",
     "status": "completed"
    },
    "tags": []
   },
   "outputs": [],
   "source": [
    "from imblearn.over_sampling import SMOTE"
   ]
  },
  {
   "cell_type": "code",
   "execution_count": 16,
   "id": "476a281f",
   "metadata": {
    "execution": {
     "iopub.execute_input": "2024-09-09T02:39:47.866378Z",
     "iopub.status.busy": "2024-09-09T02:39:47.865360Z",
     "iopub.status.idle": "2024-09-09T02:39:47.870994Z",
     "shell.execute_reply": "2024-09-09T02:39:47.869714Z"
    },
    "papermill": {
     "duration": 0.022435,
     "end_time": "2024-09-09T02:39:47.873633",
     "exception": false,
     "start_time": "2024-09-09T02:39:47.851198",
     "status": "completed"
    },
    "tags": []
   },
   "outputs": [],
   "source": [
    "over=SMOTE()"
   ]
  },
  {
   "cell_type": "code",
   "execution_count": 17,
   "id": "530b0747",
   "metadata": {
    "execution": {
     "iopub.execute_input": "2024-09-09T02:39:47.901454Z",
     "iopub.status.busy": "2024-09-09T02:39:47.901007Z",
     "iopub.status.idle": "2024-09-09T02:39:47.999555Z",
     "shell.execute_reply": "2024-09-09T02:39:47.998329Z"
    },
    "papermill": {
     "duration": 0.11566,
     "end_time": "2024-09-09T02:39:48.002478",
     "exception": false,
     "start_time": "2024-09-09T02:39:47.886818",
     "status": "completed"
    },
    "tags": []
   },
   "outputs": [],
   "source": [
    "x_train2, y_train = over.fit_resample(x_train2.toarray(), y_train)"
   ]
  },
  {
   "cell_type": "code",
   "execution_count": 18,
   "id": "42f646a1",
   "metadata": {
    "execution": {
     "iopub.execute_input": "2024-09-09T02:39:48.030457Z",
     "iopub.status.busy": "2024-09-09T02:39:48.029974Z",
     "iopub.status.idle": "2024-09-09T02:39:48.039461Z",
     "shell.execute_reply": "2024-09-09T02:39:48.038179Z"
    },
    "papermill": {
     "duration": 0.026183,
     "end_time": "2024-09-09T02:39:48.041970",
     "exception": false,
     "start_time": "2024-09-09T02:39:48.015787",
     "status": "completed"
    },
    "tags": []
   },
   "outputs": [
    {
     "data": {
      "text/plain": [
       "is_spam\n",
       "1    354\n",
       "0    354\n",
       "Name: count, dtype: int64"
      ]
     },
     "execution_count": 18,
     "metadata": {},
     "output_type": "execute_result"
    }
   ],
   "source": [
    "y_train.value_counts()"
   ]
  },
  {
   "cell_type": "markdown",
   "id": "715babdb",
   "metadata": {
    "papermill": {
     "duration": 0.012449,
     "end_time": "2024-09-09T02:39:48.067392",
     "exception": false,
     "start_time": "2024-09-09T02:39:48.054943",
     "status": "completed"
    },
    "tags": []
   },
   "source": [
    "# <p style=\"width: 800px; border-radius: 12px; border: 3px dashed #ffe81c; padding: 20px; background-color: #058BDD; text-align: center; box-shadow: 0px 6px 12px rgba(0, 0, 0, 0.3); color: #F0FF00; text-shadow: 1px 1px 2px rgba(0, 0, 0, 0.3); font-weight: bold; margin-bottom: 15px; font-size: 30px;\">build model</p> "
   ]
  },
  {
   "cell_type": "code",
   "execution_count": 19,
   "id": "6df29716",
   "metadata": {
    "execution": {
     "iopub.execute_input": "2024-09-09T02:39:48.094859Z",
     "iopub.status.busy": "2024-09-09T02:39:48.094429Z",
     "iopub.status.idle": "2024-09-09T02:39:48.102986Z",
     "shell.execute_reply": "2024-09-09T02:39:48.101751Z"
    },
    "papermill": {
     "duration": 0.025711,
     "end_time": "2024-09-09T02:39:48.105851",
     "exception": false,
     "start_time": "2024-09-09T02:39:48.080140",
     "status": "completed"
    },
    "tags": []
   },
   "outputs": [],
   "source": [
    "from sklearn.naive_bayes import MultinomialNB"
   ]
  },
  {
   "cell_type": "code",
   "execution_count": 20,
   "id": "5b705c95",
   "metadata": {
    "execution": {
     "iopub.execute_input": "2024-09-09T02:39:48.133616Z",
     "iopub.status.busy": "2024-09-09T02:39:48.133169Z",
     "iopub.status.idle": "2024-09-09T02:39:48.138503Z",
     "shell.execute_reply": "2024-09-09T02:39:48.137161Z"
    },
    "papermill": {
     "duration": 0.022569,
     "end_time": "2024-09-09T02:39:48.141407",
     "exception": false,
     "start_time": "2024-09-09T02:39:48.118838",
     "status": "completed"
    },
    "tags": []
   },
   "outputs": [],
   "source": [
    "model= MultinomialNB()"
   ]
  },
  {
   "cell_type": "markdown",
   "id": "d0bafa56",
   "metadata": {
    "papermill": {
     "duration": 0.012882,
     "end_time": "2024-09-09T02:39:48.167642",
     "exception": false,
     "start_time": "2024-09-09T02:39:48.154760",
     "status": "completed"
    },
    "tags": []
   },
   "source": [
    "# <p style=\"width: 800px; border-radius: 12px; border: 3px dashed #ffe81c; padding: 20px; background-color: #058BDD; text-align: center; box-shadow: 0px 6px 12px rgba(0, 0, 0, 0.3); color: #F0FF00; text-shadow: 1px 1px 2px rgba(0, 0, 0, 0.3); font-weight: bold; margin-bottom: 15px; font-size: 30px;\">cross_val_scorel</p> "
   ]
  },
  {
   "cell_type": "code",
   "execution_count": 21,
   "id": "a1964f2a",
   "metadata": {
    "execution": {
     "iopub.execute_input": "2024-09-09T02:39:48.196075Z",
     "iopub.status.busy": "2024-09-09T02:39:48.195128Z",
     "iopub.status.idle": "2024-09-09T02:39:48.200607Z",
     "shell.execute_reply": "2024-09-09T02:39:48.199342Z"
    },
    "papermill": {
     "duration": 0.022174,
     "end_time": "2024-09-09T02:39:48.203023",
     "exception": false,
     "start_time": "2024-09-09T02:39:48.180849",
     "status": "completed"
    },
    "tags": []
   },
   "outputs": [],
   "source": [
    "from sklearn.model_selection import cross_val_score"
   ]
  },
  {
   "cell_type": "code",
   "execution_count": 22,
   "id": "2e63e66f",
   "metadata": {
    "execution": {
     "iopub.execute_input": "2024-09-09T02:39:48.231062Z",
     "iopub.status.busy": "2024-09-09T02:39:48.230142Z",
     "iopub.status.idle": "2024-09-09T02:39:48.337562Z",
     "shell.execute_reply": "2024-09-09T02:39:48.335777Z"
    },
    "papermill": {
     "duration": 0.126894,
     "end_time": "2024-09-09T02:39:48.342826",
     "exception": false,
     "start_time": "2024-09-09T02:39:48.215932",
     "status": "completed"
    },
    "tags": []
   },
   "outputs": [],
   "source": [
    "c_v = cross_val_score(estimator=model, X=x_train2, y=y_train, cv=5, scoring='f1')"
   ]
  },
  {
   "cell_type": "code",
   "execution_count": 23,
   "id": "7b61e526",
   "metadata": {
    "execution": {
     "iopub.execute_input": "2024-09-09T02:39:48.399426Z",
     "iopub.status.busy": "2024-09-09T02:39:48.398668Z",
     "iopub.status.idle": "2024-09-09T02:39:48.405870Z",
     "shell.execute_reply": "2024-09-09T02:39:48.404651Z"
    },
    "papermill": {
     "duration": 0.039504,
     "end_time": "2024-09-09T02:39:48.409462",
     "exception": false,
     "start_time": "2024-09-09T02:39:48.369958",
     "status": "completed"
    },
    "tags": []
   },
   "outputs": [],
   "source": [
    "g=pd.DataFrame(c_v)"
   ]
  },
  {
   "cell_type": "code",
   "execution_count": 24,
   "id": "792863f1",
   "metadata": {
    "execution": {
     "iopub.execute_input": "2024-09-09T02:39:48.458048Z",
     "iopub.status.busy": "2024-09-09T02:39:48.457604Z",
     "iopub.status.idle": "2024-09-09T02:39:48.467797Z",
     "shell.execute_reply": "2024-09-09T02:39:48.466363Z"
    },
    "papermill": {
     "duration": 0.034379,
     "end_time": "2024-09-09T02:39:48.470572",
     "exception": false,
     "start_time": "2024-09-09T02:39:48.436193",
     "status": "completed"
    },
    "tags": []
   },
   "outputs": [
    {
     "data": {
      "text/plain": [
       "0    1.0\n",
       "dtype: float64"
      ]
     },
     "execution_count": 24,
     "metadata": {},
     "output_type": "execute_result"
    }
   ],
   "source": [
    "g.mean()"
   ]
  },
  {
   "cell_type": "code",
   "execution_count": 25,
   "id": "f8bf8316",
   "metadata": {
    "execution": {
     "iopub.execute_input": "2024-09-09T02:39:48.498648Z",
     "iopub.status.busy": "2024-09-09T02:39:48.498167Z",
     "iopub.status.idle": "2024-09-09T02:39:48.516928Z",
     "shell.execute_reply": "2024-09-09T02:39:48.515337Z"
    },
    "papermill": {
     "duration": 0.037293,
     "end_time": "2024-09-09T02:39:48.520957",
     "exception": false,
     "start_time": "2024-09-09T02:39:48.483664",
     "status": "completed"
    },
    "tags": []
   },
   "outputs": [
    {
     "data": {
      "text/html": [
       "<style>#sk-container-id-1 {color: black;background-color: white;}#sk-container-id-1 pre{padding: 0;}#sk-container-id-1 div.sk-toggleable {background-color: white;}#sk-container-id-1 label.sk-toggleable__label {cursor: pointer;display: block;width: 100%;margin-bottom: 0;padding: 0.3em;box-sizing: border-box;text-align: center;}#sk-container-id-1 label.sk-toggleable__label-arrow:before {content: \"▸\";float: left;margin-right: 0.25em;color: #696969;}#sk-container-id-1 label.sk-toggleable__label-arrow:hover:before {color: black;}#sk-container-id-1 div.sk-estimator:hover label.sk-toggleable__label-arrow:before {color: black;}#sk-container-id-1 div.sk-toggleable__content {max-height: 0;max-width: 0;overflow: hidden;text-align: left;background-color: #f0f8ff;}#sk-container-id-1 div.sk-toggleable__content pre {margin: 0.2em;color: black;border-radius: 0.25em;background-color: #f0f8ff;}#sk-container-id-1 input.sk-toggleable__control:checked~div.sk-toggleable__content {max-height: 200px;max-width: 100%;overflow: auto;}#sk-container-id-1 input.sk-toggleable__control:checked~label.sk-toggleable__label-arrow:before {content: \"▾\";}#sk-container-id-1 div.sk-estimator input.sk-toggleable__control:checked~label.sk-toggleable__label {background-color: #d4ebff;}#sk-container-id-1 div.sk-label input.sk-toggleable__control:checked~label.sk-toggleable__label {background-color: #d4ebff;}#sk-container-id-1 input.sk-hidden--visually {border: 0;clip: rect(1px 1px 1px 1px);clip: rect(1px, 1px, 1px, 1px);height: 1px;margin: -1px;overflow: hidden;padding: 0;position: absolute;width: 1px;}#sk-container-id-1 div.sk-estimator {font-family: monospace;background-color: #f0f8ff;border: 1px dotted black;border-radius: 0.25em;box-sizing: border-box;margin-bottom: 0.5em;}#sk-container-id-1 div.sk-estimator:hover {background-color: #d4ebff;}#sk-container-id-1 div.sk-parallel-item::after {content: \"\";width: 100%;border-bottom: 1px solid gray;flex-grow: 1;}#sk-container-id-1 div.sk-label:hover label.sk-toggleable__label {background-color: #d4ebff;}#sk-container-id-1 div.sk-serial::before {content: \"\";position: absolute;border-left: 1px solid gray;box-sizing: border-box;top: 0;bottom: 0;left: 50%;z-index: 0;}#sk-container-id-1 div.sk-serial {display: flex;flex-direction: column;align-items: center;background-color: white;padding-right: 0.2em;padding-left: 0.2em;position: relative;}#sk-container-id-1 div.sk-item {position: relative;z-index: 1;}#sk-container-id-1 div.sk-parallel {display: flex;align-items: stretch;justify-content: center;background-color: white;position: relative;}#sk-container-id-1 div.sk-item::before, #sk-container-id-1 div.sk-parallel-item::before {content: \"\";position: absolute;border-left: 1px solid gray;box-sizing: border-box;top: 0;bottom: 0;left: 50%;z-index: -1;}#sk-container-id-1 div.sk-parallel-item {display: flex;flex-direction: column;z-index: 1;position: relative;background-color: white;}#sk-container-id-1 div.sk-parallel-item:first-child::after {align-self: flex-end;width: 50%;}#sk-container-id-1 div.sk-parallel-item:last-child::after {align-self: flex-start;width: 50%;}#sk-container-id-1 div.sk-parallel-item:only-child::after {width: 0;}#sk-container-id-1 div.sk-dashed-wrapped {border: 1px dashed gray;margin: 0 0.4em 0.5em 0.4em;box-sizing: border-box;padding-bottom: 0.4em;background-color: white;}#sk-container-id-1 div.sk-label label {font-family: monospace;font-weight: bold;display: inline-block;line-height: 1.2em;}#sk-container-id-1 div.sk-label-container {text-align: center;}#sk-container-id-1 div.sk-container {/* jupyter's `normalize.less` sets `[hidden] { display: none; }` but bootstrap.min.css set `[hidden] { display: none !important; }` so we also need the `!important` here to be able to override the default hidden behavior on the sphinx rendered scikit-learn.org. See: https://github.com/scikit-learn/scikit-learn/issues/21755 */display: inline-block !important;position: relative;}#sk-container-id-1 div.sk-text-repr-fallback {display: none;}</style><div id=\"sk-container-id-1\" class=\"sk-top-container\"><div class=\"sk-text-repr-fallback\"><pre>MultinomialNB()</pre><b>In a Jupyter environment, please rerun this cell to show the HTML representation or trust the notebook. <br />On GitHub, the HTML representation is unable to render, please try loading this page with nbviewer.org.</b></div><div class=\"sk-container\" hidden><div class=\"sk-item\"><div class=\"sk-estimator sk-toggleable\"><input class=\"sk-toggleable__control sk-hidden--visually\" id=\"sk-estimator-id-1\" type=\"checkbox\" checked><label for=\"sk-estimator-id-1\" class=\"sk-toggleable__label sk-toggleable__label-arrow\">MultinomialNB</label><div class=\"sk-toggleable__content\"><pre>MultinomialNB()</pre></div></div></div></div></div>"
      ],
      "text/plain": [
       "MultinomialNB()"
      ]
     },
     "execution_count": 25,
     "metadata": {},
     "output_type": "execute_result"
    }
   ],
   "source": [
    "model.fit(x_train2,y_train)"
   ]
  },
  {
   "cell_type": "code",
   "execution_count": 26,
   "id": "60033e78",
   "metadata": {
    "execution": {
     "iopub.execute_input": "2024-09-09T02:39:48.581181Z",
     "iopub.status.busy": "2024-09-09T02:39:48.580341Z",
     "iopub.status.idle": "2024-09-09T02:39:48.588885Z",
     "shell.execute_reply": "2024-09-09T02:39:48.587186Z"
    },
    "papermill": {
     "duration": 0.04256,
     "end_time": "2024-09-09T02:39:48.592863",
     "exception": false,
     "start_time": "2024-09-09T02:39:48.550303",
     "status": "completed"
    },
    "tags": []
   },
   "outputs": [],
   "source": [
    "pred_y=model.predict(x_test2)"
   ]
  },
  {
   "cell_type": "markdown",
   "id": "a04f7b01",
   "metadata": {
    "papermill": {
     "duration": 0.016544,
     "end_time": "2024-09-09T02:39:48.636781",
     "exception": false,
     "start_time": "2024-09-09T02:39:48.620237",
     "status": "completed"
    },
    "tags": []
   },
   "source": [
    "# <p style=\"width: 800px; border-radius: 12px; border: 3px dashed #ffe81c; padding: 20px; background-color: #058BDD; text-align: center; box-shadow: 0px 6px 12px rgba(0, 0, 0, 0.3); color: #F0FF00; text-shadow: 1px 1px 2px rgba(0, 0, 0, 0.3); font-weight: bold; margin-bottom: 15px; font-size: 30px;\">Evaluation</p>  \n"
   ]
  },
  {
   "cell_type": "code",
   "execution_count": 27,
   "id": "486b5165",
   "metadata": {
    "execution": {
     "iopub.execute_input": "2024-09-09T02:39:48.665921Z",
     "iopub.status.busy": "2024-09-09T02:39:48.665455Z",
     "iopub.status.idle": "2024-09-09T02:39:48.672004Z",
     "shell.execute_reply": "2024-09-09T02:39:48.670557Z"
    },
    "papermill": {
     "duration": 0.024272,
     "end_time": "2024-09-09T02:39:48.674909",
     "exception": false,
     "start_time": "2024-09-09T02:39:48.650637",
     "status": "completed"
    },
    "tags": []
   },
   "outputs": [],
   "source": [
    "from sklearn.metrics import classification_report,confusion_matrix,precision_score"
   ]
  },
  {
   "cell_type": "code",
   "execution_count": 28,
   "id": "04953ed4",
   "metadata": {
    "execution": {
     "iopub.execute_input": "2024-09-09T02:39:48.704200Z",
     "iopub.status.busy": "2024-09-09T02:39:48.703320Z",
     "iopub.status.idle": "2024-09-09T02:39:48.725480Z",
     "shell.execute_reply": "2024-09-09T02:39:48.723959Z"
    },
    "papermill": {
     "duration": 0.03983,
     "end_time": "2024-09-09T02:39:48.728335",
     "exception": false,
     "start_time": "2024-09-09T02:39:48.688505",
     "status": "completed"
    },
    "tags": []
   },
   "outputs": [
    {
     "name": "stdout",
     "output_type": "stream",
     "text": [
      "              precision    recall  f1-score   support\n",
      "\n",
      "           0       1.00      1.00      1.00       146\n",
      "           1       1.00      1.00      1.00        58\n",
      "\n",
      "    accuracy                           1.00       204\n",
      "   macro avg       1.00      1.00      1.00       204\n",
      "weighted avg       1.00      1.00      1.00       204\n",
      "\n",
      "[[146   0]\n",
      " [  0  58]]\n",
      "1.0\n"
     ]
    }
   ],
   "source": [
    "print(classification_report(y_test,pred_y))\n",
    "print(confusion_matrix(y_test,pred_y))\n",
    "print(precision_score(y_test,pred_y))\n"
   ]
  },
  {
   "cell_type": "code",
   "execution_count": 29,
   "id": "066e46c5",
   "metadata": {
    "execution": {
     "iopub.execute_input": "2024-09-09T02:39:48.758784Z",
     "iopub.status.busy": "2024-09-09T02:39:48.757307Z",
     "iopub.status.idle": "2024-09-09T02:39:48.763713Z",
     "shell.execute_reply": "2024-09-09T02:39:48.762542Z"
    },
    "papermill": {
     "duration": 0.02446,
     "end_time": "2024-09-09T02:39:48.766330",
     "exception": false,
     "start_time": "2024-09-09T02:39:48.741870",
     "status": "completed"
    },
    "tags": []
   },
   "outputs": [],
   "source": [
    "from sklearn.metrics import ConfusionMatrixDisplay"
   ]
  },
  {
   "cell_type": "code",
   "execution_count": 30,
   "id": "5a46b414",
   "metadata": {
    "execution": {
     "iopub.execute_input": "2024-09-09T02:39:48.795245Z",
     "iopub.status.busy": "2024-09-09T02:39:48.794806Z",
     "iopub.status.idle": "2024-09-09T02:39:49.156184Z",
     "shell.execute_reply": "2024-09-09T02:39:49.155022Z"
    },
    "papermill": {
     "duration": 0.379047,
     "end_time": "2024-09-09T02:39:49.159054",
     "exception": false,
     "start_time": "2024-09-09T02:39:48.780007",
     "status": "completed"
    },
    "tags": []
   },
   "outputs": [
    {
     "data": {
      "text/plain": [
       "<sklearn.metrics._plot.confusion_matrix.ConfusionMatrixDisplay at 0x7dd4c7324f40>"
      ]
     },
     "execution_count": 30,
     "metadata": {},
     "output_type": "execute_result"
    },
    {
     "data": {
      "image/png": "[encoded data removed]",
      "text/plain": [
       "<Figure size 640x480 with 2 Axes>"
      ]
     },
     "metadata": {},
     "output_type": "display_data"
    }
   ],
   "source": [
    "ConfusionMatrixDisplay.from_estimator(model, x_test2, y_test)\n"
   ]
  },
  {
   "cell_type": "code",
   "execution_count": null,
   "id": "356aa4ad",
   "metadata": {
    "papermill": {
     "duration": 0.014143,
     "end_time": "2024-09-09T02:39:49.187329",
     "exception": false,
     "start_time": "2024-09-09T02:39:49.173186",
     "status": "completed"
    },
    "tags": []
   },
   "outputs": [],
   "source": []
  }
 ],
 "metadata": {
  "kaggle": {
   "accelerator": "none",
   "dataSources": [
    {
     "datasetId": 5467606,
     "sourceId": 9065758,
     "sourceType": "datasetVersion"
    }
   ],
   "dockerImageVersionId": 30761,
   "isGpuEnabled": false,
   "isInternetEnabled": true,
   "language": "python",
   "sourceType": "notebook"
  },
  "kernelspec": {
   "display_name": "Python 3",
   "language": "python",
   "name": "python3"
  },
  "language_info": {
   "codemirror_mode": {
    "name": "ipython",
    "version": 3
   },
   "file_extension": ".py",
   "mimetype": "text/x-python",
   "name": "python",
   "nbconvert_exporter": "python",
   "pygments_lexer": "ipython3",
   "version": "3.10.14"
  },
  "papermill": {
   "default_parameters": {},
   "duration": 8.721294,
   "end_time": "2024-09-09T02:39:49.923472",
   "environment_variables": {},
   "exception": null,
   "input_path": "__notebook__.ipynb",
   "output_path": "__notebook__.ipynb",
   "parameters": {},
   "start_time": "2024-09-09T02:39:41.202178",
   "version": "2.6.0"
  }
 },
 "nbformat": 4,
 "nbformat_minor": 5
}
